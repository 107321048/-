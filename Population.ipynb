{
  "nbformat": 4,
  "nbformat_minor": 0,
  "metadata": {
    "colab": {
      "name": "Population.ipynb",
      "provenance": []
    },
    "kernelspec": {
      "name": "python3",
      "display_name": "Python 3"
    },
    "language_info": {
      "name": "python"
    }
  },
  "cells": [
    {
      "cell_type": "code",
      "execution_count": null,
      "metadata": {
        "id": "n0tYdJl1J71V"
      },
      "outputs": [],
      "source": [
        "\n",
        "import numpy as np # linear algebra\n",
        "import pandas as pd # data processing, CSV file I/O (e.g. pd.read_csv)\n",
        "import os\n",
        "for dirname, _, filenames in os.walk('/kaggle/input'):\n",
        "    for filename in filenames:\n",
        "        print(os.path.join(dirname, filename))\n"
      ]
    },
    {
      "cell_type": "code",
      "source": [
        "import pandas as pd\n",
        "import numpy as np\n",
        "import seaborn as sns\n",
        "import matplotlib.pyplot as plt"
      ],
      "metadata": {
        "id": "Gula9-1LKBsa"
      },
      "execution_count": null,
      "outputs": []
    },
    {
      "cell_type": "code",
      "source": [
        "df = pd.read_csv(\"/content/population_taiwan.csv\")"
      ],
      "metadata": {
        "id": "InWbLDvqrqpH"
      },
      "execution_count": null,
      "outputs": []
    },
    {
      "cell_type": "code",
      "source": [
        "df.head()"
      ],
      "metadata": {
        "id": "PMllEOXxKEVQ",
        "colab": {
          "base_uri": "https://localhost:8080/",
          "height": 206
        },
        "outputId": "8a4aebd6-ea83-4288-cfb6-243af8f41f86"
      },
      "execution_count": null,
      "outputs": [
        {
          "output_type": "execute_result",
          "data": {
            "text/plain": [
              "   Year  Population  Yearly % Change  Yearly Change  Migrants (net)  \\\n",
              "0  2020    23816775             0.18          42899           30001   \n",
              "1  2019    23773876             0.20          47416           30001   \n",
              "2  2018    23726460             0.22          51914           30001   \n",
              "3  2017    23674546             0.24          56346           30001   \n",
              "4  2016    23618200             0.26          60723           30001   \n",
              "\n",
              "   Median Age  Fertility Rate  Density (P/Km²)  Urban Pop %  Urban Population  \\\n",
              "0        42.5            1.15              673         78.9          18802314   \n",
              "1        40.3            1.11              671         78.5          18662774   \n",
              "2        40.3            1.11              670         78.0          18518291   \n",
              "3        40.3            1.11              669         77.6          18369720   \n",
              "4        40.3            1.11              667         77.1          18218159   \n",
              "\n",
              "   Country's Share of World Pop  World Population  Taiwan Global Rank  \n",
              "0                          0.31        7794798739                  57  \n",
              "1                          0.31        7713468100                  56  \n",
              "2                          0.31        7631091040                  56  \n",
              "3                          0.31        7547858925                  56  \n",
              "4                          0.32        7464022049                  56  "
            ],
            "text/html": [
              "\n",
              "  <div id=\"df-9e38576b-138c-4f81-8178-51c46a3f6114\">\n",
              "    <div class=\"colab-df-container\">\n",
              "      <div>\n",
              "<style scoped>\n",
              "    .dataframe tbody tr th:only-of-type {\n",
              "        vertical-align: middle;\n",
              "    }\n",
              "\n",
              "    .dataframe tbody tr th {\n",
              "        vertical-align: top;\n",
              "    }\n",
              "\n",
              "    .dataframe thead th {\n",
              "        text-align: right;\n",
              "    }\n",
              "</style>\n",
              "<table border=\"1\" class=\"dataframe\">\n",
              "  <thead>\n",
              "    <tr style=\"text-align: right;\">\n",
              "      <th></th>\n",
              "      <th>Year</th>\n",
              "      <th>Population</th>\n",
              "      <th>Yearly % Change</th>\n",
              "      <th>Yearly Change</th>\n",
              "      <th>Migrants (net)</th>\n",
              "      <th>Median Age</th>\n",
              "      <th>Fertility Rate</th>\n",
              "      <th>Density (P/Km²)</th>\n",
              "      <th>Urban Pop %</th>\n",
              "      <th>Urban Population</th>\n",
              "      <th>Country's Share of World Pop</th>\n",
              "      <th>World Population</th>\n",
              "      <th>Taiwan Global Rank</th>\n",
              "    </tr>\n",
              "  </thead>\n",
              "  <tbody>\n",
              "    <tr>\n",
              "      <th>0</th>\n",
              "      <td>2020</td>\n",
              "      <td>23816775</td>\n",
              "      <td>0.18</td>\n",
              "      <td>42899</td>\n",
              "      <td>30001</td>\n",
              "      <td>42.5</td>\n",
              "      <td>1.15</td>\n",
              "      <td>673</td>\n",
              "      <td>78.9</td>\n",
              "      <td>18802314</td>\n",
              "      <td>0.31</td>\n",
              "      <td>7794798739</td>\n",
              "      <td>57</td>\n",
              "    </tr>\n",
              "    <tr>\n",
              "      <th>1</th>\n",
              "      <td>2019</td>\n",
              "      <td>23773876</td>\n",
              "      <td>0.20</td>\n",
              "      <td>47416</td>\n",
              "      <td>30001</td>\n",
              "      <td>40.3</td>\n",
              "      <td>1.11</td>\n",
              "      <td>671</td>\n",
              "      <td>78.5</td>\n",
              "      <td>18662774</td>\n",
              "      <td>0.31</td>\n",
              "      <td>7713468100</td>\n",
              "      <td>56</td>\n",
              "    </tr>\n",
              "    <tr>\n",
              "      <th>2</th>\n",
              "      <td>2018</td>\n",
              "      <td>23726460</td>\n",
              "      <td>0.22</td>\n",
              "      <td>51914</td>\n",
              "      <td>30001</td>\n",
              "      <td>40.3</td>\n",
              "      <td>1.11</td>\n",
              "      <td>670</td>\n",
              "      <td>78.0</td>\n",
              "      <td>18518291</td>\n",
              "      <td>0.31</td>\n",
              "      <td>7631091040</td>\n",
              "      <td>56</td>\n",
              "    </tr>\n",
              "    <tr>\n",
              "      <th>3</th>\n",
              "      <td>2017</td>\n",
              "      <td>23674546</td>\n",
              "      <td>0.24</td>\n",
              "      <td>56346</td>\n",
              "      <td>30001</td>\n",
              "      <td>40.3</td>\n",
              "      <td>1.11</td>\n",
              "      <td>669</td>\n",
              "      <td>77.6</td>\n",
              "      <td>18369720</td>\n",
              "      <td>0.31</td>\n",
              "      <td>7547858925</td>\n",
              "      <td>56</td>\n",
              "    </tr>\n",
              "    <tr>\n",
              "      <th>4</th>\n",
              "      <td>2016</td>\n",
              "      <td>23618200</td>\n",
              "      <td>0.26</td>\n",
              "      <td>60723</td>\n",
              "      <td>30001</td>\n",
              "      <td>40.3</td>\n",
              "      <td>1.11</td>\n",
              "      <td>667</td>\n",
              "      <td>77.1</td>\n",
              "      <td>18218159</td>\n",
              "      <td>0.32</td>\n",
              "      <td>7464022049</td>\n",
              "      <td>56</td>\n",
              "    </tr>\n",
              "  </tbody>\n",
              "</table>\n",
              "</div>\n",
              "      <button class=\"colab-df-convert\" onclick=\"convertToInteractive('df-9e38576b-138c-4f81-8178-51c46a3f6114')\"\n",
              "              title=\"Convert this dataframe to an interactive table.\"\n",
              "              style=\"display:none;\">\n",
              "        \n",
              "  <svg xmlns=\"http://www.w3.org/2000/svg\" height=\"24px\"viewBox=\"0 0 24 24\"\n",
              "       width=\"24px\">\n",
              "    <path d=\"M0 0h24v24H0V0z\" fill=\"none\"/>\n",
              "    <path d=\"M18.56 5.44l.94 2.06.94-2.06 2.06-.94-2.06-.94-.94-2.06-.94 2.06-2.06.94zm-11 1L8.5 8.5l.94-2.06 2.06-.94-2.06-.94L8.5 2.5l-.94 2.06-2.06.94zm10 10l.94 2.06.94-2.06 2.06-.94-2.06-.94-.94-2.06-.94 2.06-2.06.94z\"/><path d=\"M17.41 7.96l-1.37-1.37c-.4-.4-.92-.59-1.43-.59-.52 0-1.04.2-1.43.59L10.3 9.45l-7.72 7.72c-.78.78-.78 2.05 0 2.83L4 21.41c.39.39.9.59 1.41.59.51 0 1.02-.2 1.41-.59l7.78-7.78 2.81-2.81c.8-.78.8-2.07 0-2.86zM5.41 20L4 18.59l7.72-7.72 1.47 1.35L5.41 20z\"/>\n",
              "  </svg>\n",
              "      </button>\n",
              "      \n",
              "  <style>\n",
              "    .colab-df-container {\n",
              "      display:flex;\n",
              "      flex-wrap:wrap;\n",
              "      gap: 12px;\n",
              "    }\n",
              "\n",
              "    .colab-df-convert {\n",
              "      background-color: #E8F0FE;\n",
              "      border: none;\n",
              "      border-radius: 50%;\n",
              "      cursor: pointer;\n",
              "      display: none;\n",
              "      fill: #1967D2;\n",
              "      height: 32px;\n",
              "      padding: 0 0 0 0;\n",
              "      width: 32px;\n",
              "    }\n",
              "\n",
              "    .colab-df-convert:hover {\n",
              "      background-color: #E2EBFA;\n",
              "      box-shadow: 0px 1px 2px rgba(60, 64, 67, 0.3), 0px 1px 3px 1px rgba(60, 64, 67, 0.15);\n",
              "      fill: #174EA6;\n",
              "    }\n",
              "\n",
              "    [theme=dark] .colab-df-convert {\n",
              "      background-color: #3B4455;\n",
              "      fill: #D2E3FC;\n",
              "    }\n",
              "\n",
              "    [theme=dark] .colab-df-convert:hover {\n",
              "      background-color: #434B5C;\n",
              "      box-shadow: 0px 1px 3px 1px rgba(0, 0, 0, 0.15);\n",
              "      filter: drop-shadow(0px 1px 2px rgba(0, 0, 0, 0.3));\n",
              "      fill: #FFFFFF;\n",
              "    }\n",
              "  </style>\n",
              "\n",
              "      <script>\n",
              "        const buttonEl =\n",
              "          document.querySelector('#df-9e38576b-138c-4f81-8178-51c46a3f6114 button.colab-df-convert');\n",
              "        buttonEl.style.display =\n",
              "          google.colab.kernel.accessAllowed ? 'block' : 'none';\n",
              "\n",
              "        async function convertToInteractive(key) {\n",
              "          const element = document.querySelector('#df-9e38576b-138c-4f81-8178-51c46a3f6114');\n",
              "          const dataTable =\n",
              "            await google.colab.kernel.invokeFunction('convertToInteractive',\n",
              "                                                     [key], {});\n",
              "          if (!dataTable) return;\n",
              "\n",
              "          const docLinkHtml = 'Like what you see? Visit the ' +\n",
              "            '<a target=\"_blank\" href=https://colab.research.google.com/notebooks/data_table.ipynb>data table notebook</a>'\n",
              "            + ' to learn more about interactive tables.';\n",
              "          element.innerHTML = '';\n",
              "          dataTable['output_type'] = 'display_data';\n",
              "          await google.colab.output.renderOutput(dataTable, element);\n",
              "          const docLink = document.createElement('div');\n",
              "          docLink.innerHTML = docLinkHtml;\n",
              "          element.appendChild(docLink);\n",
              "        }\n",
              "      </script>\n",
              "    </div>\n",
              "  </div>\n",
              "  "
            ]
          },
          "metadata": {},
          "execution_count": 42
        }
      ]
    },
    {
      "cell_type": "code",
      "source": [
        "df.shape"
      ],
      "metadata": {
        "colab": {
          "base_uri": "https://localhost:8080/"
        },
        "id": "PtpXF3e5rhHZ",
        "outputId": "83127f65-bb6c-4ab4-fd81-45071980a69b"
      },
      "execution_count": null,
      "outputs": [
        {
          "output_type": "execute_result",
          "data": {
            "text/plain": [
              "(18, 13)"
            ]
          },
          "metadata": {},
          "execution_count": 43
        }
      ]
    },
    {
      "cell_type": "code",
      "source": [
        "fig,axes = plt.subplots(nrows=1,ncols=3,figsize=(16,6))\n",
        "\n",
        "axes[0].plot(df['Year'],df['Population'],'o')\n",
        "axes[0].set_ylabel(\"Population\")\n",
        "axes[0].set_xlabel(\"Year\")\n",
        "axes[0].set_title(\"Taiwan Population\")\n",
        "\n",
        "axes[1].plot(df['Year'],df['World Population'],'o')\n",
        "axes[1].set_ylabel(\"Population\")\n",
        "axes[1].set_xlabel(\"Year\")\n",
        "axes[1].set_title(\"World Population\")\n",
        "\n",
        "axes[2].plot(df['Year'],df['Taiwan Global Rank'],'o')\n",
        "axes[2].set_ylabel(\"Taiwan Global Rank\")\n",
        "axes[2].set_xlabel(\"Year\")\n",
        "axes[2].set_title(\"Global Rank\")\n",
        "plt.tight_layout();\n"
      ],
      "metadata": {
        "colab": {
          "base_uri": "https://localhost:8080/",
          "height": 441
        },
        "id": "-7zWnFvQrjKe",
        "outputId": "7ebd0fc2-e143-489c-aa69-fd3497c0386a"
      },
      "execution_count": null,
      "outputs": [
        {
          "output_type": "display_data",
          "data": {
            "text/plain": [
              "<Figure size 1152x432 with 3 Axes>"
            ],
            "image/png": "[encoded data removed]"
          },
          "metadata": {
            "needs_background": "light"
          }
        }
      ]
    },
    {
      "cell_type": "code",
      "source": [
        "X = df.drop('Population',axis = 1)\n",
        "y = df['Population']"
      ],
      "metadata": {
        "id": "8u5_mqWZrjl-"
      },
      "execution_count": null,
      "outputs": []
    },
    {
      "cell_type": "code",
      "source": [
        "X.head()"
      ],
      "metadata": {
        "id": "09vtFpLorlOO",
        "outputId": "fe2ca1b5-0615-4ddc-92d4-094afcd8c94a",
        "colab": {
          "base_uri": "https://localhost:8080/",
          "height": 206
        }
      },
      "execution_count": null,
      "outputs": [
        {
          "output_type": "execute_result",
          "data": {
            "text/plain": [
              "   Year  Yearly % Change  Yearly Change  Migrants (net)  Median Age  \\\n",
              "0  2020             0.18          42899           30001        42.5   \n",
              "1  2019             0.20          47416           30001        40.3   \n",
              "2  2018             0.22          51914           30001        40.3   \n",
              "3  2017             0.24          56346           30001        40.3   \n",
              "4  2016             0.26          60723           30001        40.3   \n",
              "\n",
              "   Fertility Rate  Density (P/Km²)  Urban Pop %  Urban Population  \\\n",
              "0            1.15              673         78.9          18802314   \n",
              "1            1.11              671         78.5          18662774   \n",
              "2            1.11              670         78.0          18518291   \n",
              "3            1.11              669         77.6          18369720   \n",
              "4            1.11              667         77.1          18218159   \n",
              "\n",
              "   Country's Share of World Pop  World Population  Taiwan Global Rank  \n",
              "0                          0.31        7794798739                  57  \n",
              "1                          0.31        7713468100                  56  \n",
              "2                          0.31        7631091040                  56  \n",
              "3                          0.31        7547858925                  56  \n",
              "4                          0.32        7464022049                  56  "
            ],
            "text/html": [
              "\n",
              "  <div id=\"df-a93d601f-774e-4fd3-be70-f75d7d88a5c1\">\n",
              "    <div class=\"colab-df-container\">\n",
              "      <div>\n",
              "<style scoped>\n",
              "    .dataframe tbody tr th:only-of-type {\n",
              "        vertical-align: middle;\n",
              "    }\n",
              "\n",
              "    .dataframe tbody tr th {\n",
              "        vertical-align: top;\n",
              "    }\n",
              "\n",
              "    .dataframe thead th {\n",
              "        text-align: right;\n",
              "    }\n",
              "</style>\n",
              "<table border=\"1\" class=\"dataframe\">\n",
              "  <thead>\n",
              "    <tr style=\"text-align: right;\">\n",
              "      <th></th>\n",
              "      <th>Year</th>\n",
              "      <th>Yearly % Change</th>\n",
              "      <th>Yearly Change</th>\n",
              "      <th>Migrants (net)</th>\n",
              "      <th>Median Age</th>\n",
              "      <th>Fertility Rate</th>\n",
              "      <th>Density (P/Km²)</th>\n",
              "      <th>Urban Pop %</th>\n",
              "      <th>Urban Population</th>\n",
              "      <th>Country's Share of World Pop</th>\n",
              "      <th>World Population</th>\n",
              "      <th>Taiwan Global Rank</th>\n",
              "    </tr>\n",
              "  </thead>\n",
              "  <tbody>\n",
              "    <tr>\n",
              "      <th>0</th>\n",
              "      <td>2020</td>\n",
              "      <td>0.18</td>\n",
              "      <td>42899</td>\n",
              "      <td>30001</td>\n",
              "      <td>42.5</td>\n",
              "      <td>1.15</td>\n",
              "      <td>673</td>\n",
              "      <td>78.9</td>\n",
              "      <td>18802314</td>\n",
              "      <td>0.31</td>\n",
              "      <td>7794798739</td>\n",
              "      <td>57</td>\n",
              "    </tr>\n",
              "    <tr>\n",
              "      <th>1</th>\n",
              "      <td>2019</td>\n",
              "      <td>0.20</td>\n",
              "      <td>47416</td>\n",
              "      <td>30001</td>\n",
              "      <td>40.3</td>\n",
              "      <td>1.11</td>\n",
              "      <td>671</td>\n",
              "      <td>78.5</td>\n",
              "      <td>18662774</td>\n",
              "      <td>0.31</td>\n",
              "      <td>7713468100</td>\n",
              "      <td>56</td>\n",
              "    </tr>\n",
              "    <tr>\n",
              "      <th>2</th>\n",
              "      <td>2018</td>\n",
              "      <td>0.22</td>\n",
              "      <td>51914</td>\n",
              "      <td>30001</td>\n",
              "      <td>40.3</td>\n",
              "      <td>1.11</td>\n",
              "      <td>670</td>\n",
              "      <td>78.0</td>\n",
              "      <td>18518291</td>\n",
              "      <td>0.31</td>\n",
              "      <td>7631091040</td>\n",
              "      <td>56</td>\n",
              "    </tr>\n",
              "    <tr>\n",
              "      <th>3</th>\n",
              "      <td>2017</td>\n",
              "      <td>0.24</td>\n",
              "      <td>56346</td>\n",
              "      <td>30001</td>\n",
              "      <td>40.3</td>\n",
              "      <td>1.11</td>\n",
              "      <td>669</td>\n",
              "      <td>77.6</td>\n",
              "      <td>18369720</td>\n",
              "      <td>0.31</td>\n",
              "      <td>7547858925</td>\n",
              "      <td>56</td>\n",
              "    </tr>\n",
              "    <tr>\n",
              "      <th>4</th>\n",
              "      <td>2016</td>\n",
              "      <td>0.26</td>\n",
              "      <td>60723</td>\n",
              "      <td>30001</td>\n",
              "      <td>40.3</td>\n",
              "      <td>1.11</td>\n",
              "      <td>667</td>\n",
              "      <td>77.1</td>\n",
              "      <td>18218159</td>\n",
              "      <td>0.32</td>\n",
              "      <td>7464022049</td>\n",
              "      <td>56</td>\n",
              "    </tr>\n",
              "  </tbody>\n",
              "</table>\n",
              "</div>\n",
              "      <button class=\"colab-df-convert\" onclick=\"convertToInteractive('df-a93d601f-774e-4fd3-be70-f75d7d88a5c1')\"\n",
              "              title=\"Convert this dataframe to an interactive table.\"\n",
              "              style=\"display:none;\">\n",
              "        \n",
              "  <svg xmlns=\"http://www.w3.org/2000/svg\" height=\"24px\"viewBox=\"0 0 24 24\"\n",
              "       width=\"24px\">\n",
              "    <path d=\"M0 0h24v24H0V0z\" fill=\"none\"/>\n",
              "    <path d=\"M18.56 5.44l.94 2.06.94-2.06 2.06-.94-2.06-.94-.94-2.06-.94 2.06-2.06.94zm-11 1L8.5 8.5l.94-2.06 2.06-.94-2.06-.94L8.5 2.5l-.94 2.06-2.06.94zm10 10l.94 2.06.94-2.06 2.06-.94-2.06-.94-.94-2.06-.94 2.06-2.06.94z\"/><path d=\"M17.41 7.96l-1.37-1.37c-.4-.4-.92-.59-1.43-.59-.52 0-1.04.2-1.43.59L10.3 9.45l-7.72 7.72c-.78.78-.78 2.05 0 2.83L4 21.41c.39.39.9.59 1.41.59.51 0 1.02-.2 1.41-.59l7.78-7.78 2.81-2.81c.8-.78.8-2.07 0-2.86zM5.41 20L4 18.59l7.72-7.72 1.47 1.35L5.41 20z\"/>\n",
              "  </svg>\n",
              "      </button>\n",
              "      \n",
              "  <style>\n",
              "    .colab-df-container {\n",
              "      display:flex;\n",
              "      flex-wrap:wrap;\n",
              "      gap: 12px;\n",
              "    }\n",
              "\n",
              "    .colab-df-convert {\n",
              "      background-color: #E8F0FE;\n",
              "      border: none;\n",
              "      border-radius: 50%;\n",
              "      cursor: pointer;\n",
              "      display: none;\n",
              "      fill: #1967D2;\n",
              "      height: 32px;\n",
              "      padding: 0 0 0 0;\n",
              "      width: 32px;\n",
              "    }\n",
              "\n",
              "    .colab-df-convert:hover {\n",
              "      background-color: #E2EBFA;\n",
              "      box-shadow: 0px 1px 2px rgba(60, 64, 67, 0.3), 0px 1px 3px 1px rgba(60, 64, 67, 0.15);\n",
              "      fill: #174EA6;\n",
              "    }\n",
              "\n",
              "    [theme=dark] .colab-df-convert {\n",
              "      background-color: #3B4455;\n",
              "      fill: #D2E3FC;\n",
              "    }\n",
              "\n",
              "    [theme=dark] .colab-df-convert:hover {\n",
              "      background-color: #434B5C;\n",
              "      box-shadow: 0px 1px 3px 1px rgba(0, 0, 0, 0.15);\n",
              "      filter: drop-shadow(0px 1px 2px rgba(0, 0, 0, 0.3));\n",
              "      fill: #FFFFFF;\n",
              "    }\n",
              "  </style>\n",
              "\n",
              "      <script>\n",
              "        const buttonEl =\n",
              "          document.querySelector('#df-a93d601f-774e-4fd3-be70-f75d7d88a5c1 button.colab-df-convert');\n",
              "        buttonEl.style.display =\n",
              "          google.colab.kernel.accessAllowed ? 'block' : 'none';\n",
              "\n",
              "        async function convertToInteractive(key) {\n",
              "          const element = document.querySelector('#df-a93d601f-774e-4fd3-be70-f75d7d88a5c1');\n",
              "          const dataTable =\n",
              "            await google.colab.kernel.invokeFunction('convertToInteractive',\n",
              "                                                     [key], {});\n",
              "          if (!dataTable) return;\n",
              "\n",
              "          const docLinkHtml = 'Like what you see? Visit the ' +\n",
              "            '<a target=\"_blank\" href=https://colab.research.google.com/notebooks/data_table.ipynb>data table notebook</a>'\n",
              "            + ' to learn more about interactive tables.';\n",
              "          element.innerHTML = '';\n",
              "          dataTable['output_type'] = 'display_data';\n",
              "          await google.colab.output.renderOutput(dataTable, element);\n",
              "          const docLink = document.createElement('div');\n",
              "          docLink.innerHTML = docLinkHtml;\n",
              "          element.appendChild(docLink);\n",
              "        }\n",
              "      </script>\n",
              "    </div>\n",
              "  </div>\n",
              "  "
            ]
          },
          "metadata": {},
          "execution_count": 46
        }
      ]
    },
    {
      "cell_type": "code",
      "source": [
        "y.head()"
      ],
      "metadata": {
        "id": "Eh9C__2zrmyj",
        "outputId": "ebb6edb8-c17b-4dee-c0ff-4e5d80437759",
        "colab": {
          "base_uri": "https://localhost:8080/"
        }
      },
      "execution_count": null,
      "outputs": [
        {
          "output_type": "execute_result",
          "data": {
            "text/plain": [
              "0    23816775\n",
              "1    23773876\n",
              "2    23726460\n",
              "3    23674546\n",
              "4    23618200\n",
              "Name: Population, dtype: int64"
            ]
          },
          "metadata": {},
          "execution_count": 47
        }
      ]
    },
    {
      "cell_type": "code",
      "source": [
        "from sklearn.model_selection import train_test_split"
      ],
      "metadata": {
        "id": "q_DSY17VrpnQ"
      },
      "execution_count": null,
      "outputs": []
    },
    {
      "cell_type": "code",
      "source": [
        "X_train, X_test, y_train, y_test = train_test_split(X, y, test_size=0.3, random_state=101)"
      ],
      "metadata": {
        "id": "L9dPIUOkrrIy"
      },
      "execution_count": null,
      "outputs": []
    },
    {
      "cell_type": "code",
      "source": [
        "X_train"
      ],
      "metadata": {
        "id": "H9LH58oLrsS2",
        "outputId": "5723888a-15cc-44de-ce07-509c62b7f9f0",
        "colab": {
          "base_uri": "https://localhost:8080/",
          "height": 426
        }
      },
      "execution_count": null,
      "outputs": [
        {
          "output_type": "execute_result",
          "data": {
            "text/plain": [
              "    Year  Yearly % Change  Yearly Change  Migrants (net)  Median Age  \\\n",
              "12  1980             1.69         288106          -42000        23.2   \n",
              "5   2015             0.32          73985           34000        39.7   \n",
              "10  1990             1.19         235023           16000        27.5   \n",
              "4   2016             0.26          60723           30001        40.3   \n",
              "8   2000             0.57         122099          -50000        32.0   \n",
              "9   1995             0.84         175503          -30000        29.8   \n",
              "17  1955             3.87         317522           19000        17.9   \n",
              "13  1975             1.98         308094           -5000        20.8   \n",
              "7   2005             0.66         147837           41000        34.6   \n",
              "15  1965             3.47         405001           50176        17.8   \n",
              "6   2010             0.42          96368           50000        37.2   \n",
              "11  1985             1.51         279589          -12200        25.0   \n",
              "\n",
              "    Fertility Rate  Density (P/Km²)  Urban Pop %  Urban Population  \\\n",
              "12            2.74              506         48.2           8631549   \n",
              "5             1.11              665         76.7          18064348   \n",
              "10            1.77              578         65.7          13457894   \n",
              "4             1.11              667         77.1          18218159   \n",
              "8             1.67              620         69.5          15258841   \n",
              "9             1.76              603         68.0          14516273   \n",
              "17            6.72              260         28.5           2623092   \n",
              "13            3.33              465         39.2           6458027   \n",
              "7             1.33              641         72.0          16339969   \n",
              "15            5.41              364         33.2           4282804   \n",
              "6             1.05              655         74.4          17254388   \n",
              "11            2.23              545         57.2          11043738   \n",
              "\n",
              "    Country's Share of World Pop  World Population  Taiwan Global Rank  \n",
              "12                          0.40        4458003514                  37  \n",
              "5                           0.32        7379797139                  54  \n",
              "10                          0.38        5327231061                  39  \n",
              "4                           0.32        7464022049                  56  \n",
              "8                           0.36        6143493823                  47  \n",
              "9                           0.37        5744212979                  44  \n",
              "17                          0.33        2773019936                  41  \n",
              "13                          0.40        4079480606                  36  \n",
              "7                           0.35        6541907027                  48  \n",
              "15                          0.39        3339583597                  41  \n",
              "6                           0.33        6956823603                  51  \n",
              "11                          0.40        4870921740                  39  "
            ],
            "text/html": [
              "\n",
              "  <div id=\"df-aba5a79b-d5bd-479c-bb0f-a57c53b61b43\">\n",
              "    <div class=\"colab-df-container\">\n",
              "      <div>\n",
              "<style scoped>\n",
              "    .dataframe tbody tr th:only-of-type {\n",
              "        vertical-align: middle;\n",
              "    }\n",
              "\n",
              "    .dataframe tbody tr th {\n",
              "        vertical-align: top;\n",
              "    }\n",
              "\n",
              "    .dataframe thead th {\n",
              "        text-align: right;\n",
              "    }\n",
              "</style>\n",
              "<table border=\"1\" class=\"dataframe\">\n",
              "  <thead>\n",
              "    <tr style=\"text-align: right;\">\n",
              "      <th></th>\n",
              "      <th>Year</th>\n",
              "      <th>Yearly % Change</th>\n",
              "      <th>Yearly Change</th>\n",
              "      <th>Migrants (net)</th>\n",
              "      <th>Median Age</th>\n",
              "      <th>Fertility Rate</th>\n",
              "      <th>Density (P/Km²)</th>\n",
              "      <th>Urban Pop %</th>\n",
              "      <th>Urban Population</th>\n",
              "      <th>Country's Share of World Pop</th>\n",
              "      <th>World Population</th>\n",
              "      <th>Taiwan Global Rank</th>\n",
              "    </tr>\n",
              "  </thead>\n",
              "  <tbody>\n",
              "    <tr>\n",
              "      <th>12</th>\n",
              "      <td>1980</td>\n",
              "      <td>1.69</td>\n",
              "      <td>288106</td>\n",
              "      <td>-42000</td>\n",
              "      <td>23.2</td>\n",
              "      <td>2.74</td>\n",
              "      <td>506</td>\n",
              "      <td>48.2</td>\n",
              "      <td>8631549</td>\n",
              "      <td>0.40</td>\n",
              "      <td>4458003514</td>\n",
              "      <td>37</td>\n",
              "    </tr>\n",
              "    <tr>\n",
              "      <th>5</th>\n",
              "      <td>2015</td>\n",
              "      <td>0.32</td>\n",
              "      <td>73985</td>\n",
              "      <td>34000</td>\n",
              "      <td>39.7</td>\n",
              "      <td>1.11</td>\n",
              "      <td>665</td>\n",
              "      <td>76.7</td>\n",
              "      <td>18064348</td>\n",
              "      <td>0.32</td>\n",
              "      <td>7379797139</td>\n",
              "      <td>54</td>\n",
              "    </tr>\n",
              "    <tr>\n",
              "      <th>10</th>\n",
              "      <td>1990</td>\n",
              "      <td>1.19</td>\n",
              "      <td>235023</td>\n",
              "      <td>16000</td>\n",
              "      <td>27.5</td>\n",
              "      <td>1.77</td>\n",
              "      <td>578</td>\n",
              "      <td>65.7</td>\n",
              "      <td>13457894</td>\n",
              "      <td>0.38</td>\n",
              "      <td>5327231061</td>\n",
              "      <td>39</td>\n",
              "    </tr>\n",
              "    <tr>\n",
              "      <th>4</th>\n",
              "      <td>2016</td>\n",
              "      <td>0.26</td>\n",
              "      <td>60723</td>\n",
              "      <td>30001</td>\n",
              "      <td>40.3</td>\n",
              "      <td>1.11</td>\n",
              "      <td>667</td>\n",
              "      <td>77.1</td>\n",
              "      <td>18218159</td>\n",
              "      <td>0.32</td>\n",
              "      <td>7464022049</td>\n",
              "      <td>56</td>\n",
              "    </tr>\n",
              "    <tr>\n",
              "      <th>8</th>\n",
              "      <td>2000</td>\n",
              "      <td>0.57</td>\n",
              "      <td>122099</td>\n",
              "      <td>-50000</td>\n",
              "      <td>32.0</td>\n",
              "      <td>1.67</td>\n",
              "      <td>620</td>\n",
              "      <td>69.5</td>\n",
              "      <td>15258841</td>\n",
              "      <td>0.36</td>\n",
              "      <td>6143493823</td>\n",
              "      <td>47</td>\n",
              "    </tr>\n",
              "    <tr>\n",
              "      <th>9</th>\n",
              "      <td>1995</td>\n",
              "      <td>0.84</td>\n",
              "      <td>175503</td>\n",
              "      <td>-30000</td>\n",
              "      <td>29.8</td>\n",
              "      <td>1.76</td>\n",
              "      <td>603</td>\n",
              "      <td>68.0</td>\n",
              "      <td>14516273</td>\n",
              "      <td>0.37</td>\n",
              "      <td>5744212979</td>\n",
              "      <td>44</td>\n",
              "    </tr>\n",
              "    <tr>\n",
              "      <th>17</th>\n",
              "      <td>1955</td>\n",
              "      <td>3.87</td>\n",
              "      <td>317522</td>\n",
              "      <td>19000</td>\n",
              "      <td>17.9</td>\n",
              "      <td>6.72</td>\n",
              "      <td>260</td>\n",
              "      <td>28.5</td>\n",
              "      <td>2623092</td>\n",
              "      <td>0.33</td>\n",
              "      <td>2773019936</td>\n",
              "      <td>41</td>\n",
              "    </tr>\n",
              "    <tr>\n",
              "      <th>13</th>\n",
              "      <td>1975</td>\n",
              "      <td>1.98</td>\n",
              "      <td>308094</td>\n",
              "      <td>-5000</td>\n",
              "      <td>20.8</td>\n",
              "      <td>3.33</td>\n",
              "      <td>465</td>\n",
              "      <td>39.2</td>\n",
              "      <td>6458027</td>\n",
              "      <td>0.40</td>\n",
              "      <td>4079480606</td>\n",
              "      <td>36</td>\n",
              "    </tr>\n",
              "    <tr>\n",
              "      <th>7</th>\n",
              "      <td>2005</td>\n",
              "      <td>0.66</td>\n",
              "      <td>147837</td>\n",
              "      <td>41000</td>\n",
              "      <td>34.6</td>\n",
              "      <td>1.33</td>\n",
              "      <td>641</td>\n",
              "      <td>72.0</td>\n",
              "      <td>16339969</td>\n",
              "      <td>0.35</td>\n",
              "      <td>6541907027</td>\n",
              "      <td>48</td>\n",
              "    </tr>\n",
              "    <tr>\n",
              "      <th>15</th>\n",
              "      <td>1965</td>\n",
              "      <td>3.47</td>\n",
              "      <td>405001</td>\n",
              "      <td>50176</td>\n",
              "      <td>17.8</td>\n",
              "      <td>5.41</td>\n",
              "      <td>364</td>\n",
              "      <td>33.2</td>\n",
              "      <td>4282804</td>\n",
              "      <td>0.39</td>\n",
              "      <td>3339583597</td>\n",
              "      <td>41</td>\n",
              "    </tr>\n",
              "    <tr>\n",
              "      <th>6</th>\n",
              "      <td>2010</td>\n",
              "      <td>0.42</td>\n",
              "      <td>96368</td>\n",
              "      <td>50000</td>\n",
              "      <td>37.2</td>\n",
              "      <td>1.05</td>\n",
              "      <td>655</td>\n",
              "      <td>74.4</td>\n",
              "      <td>17254388</td>\n",
              "      <td>0.33</td>\n",
              "      <td>6956823603</td>\n",
              "      <td>51</td>\n",
              "    </tr>\n",
              "    <tr>\n",
              "      <th>11</th>\n",
              "      <td>1985</td>\n",
              "      <td>1.51</td>\n",
              "      <td>279589</td>\n",
              "      <td>-12200</td>\n",
              "      <td>25.0</td>\n",
              "      <td>2.23</td>\n",
              "      <td>545</td>\n",
              "      <td>57.2</td>\n",
              "      <td>11043738</td>\n",
              "      <td>0.40</td>\n",
              "      <td>4870921740</td>\n",
              "      <td>39</td>\n",
              "    </tr>\n",
              "  </tbody>\n",
              "</table>\n",
              "</div>\n",
              "      <button class=\"colab-df-convert\" onclick=\"convertToInteractive('df-aba5a79b-d5bd-479c-bb0f-a57c53b61b43')\"\n",
              "              title=\"Convert this dataframe to an interactive table.\"\n",
              "              style=\"display:none;\">\n",
              "        \n",
              "  <svg xmlns=\"http://www.w3.org/2000/svg\" height=\"24px\"viewBox=\"0 0 24 24\"\n",
              "       width=\"24px\">\n",
              "    <path d=\"M0 0h24v24H0V0z\" fill=\"none\"/>\n",
              "    <path d=\"M18.56 5.44l.94 2.06.94-2.06 2.06-.94-2.06-.94-.94-2.06-.94 2.06-2.06.94zm-11 1L8.5 8.5l.94-2.06 2.06-.94-2.06-.94L8.5 2.5l-.94 2.06-2.06.94zm10 10l.94 2.06.94-2.06 2.06-.94-2.06-.94-.94-2.06-.94 2.06-2.06.94z\"/><path d=\"M17.41 7.96l-1.37-1.37c-.4-.4-.92-.59-1.43-.59-.52 0-1.04.2-1.43.59L10.3 9.45l-7.72 7.72c-.78.78-.78 2.05 0 2.83L4 21.41c.39.39.9.59 1.41.59.51 0 1.02-.2 1.41-.59l7.78-7.78 2.81-2.81c.8-.78.8-2.07 0-2.86zM5.41 20L4 18.59l7.72-7.72 1.47 1.35L5.41 20z\"/>\n",
              "  </svg>\n",
              "      </button>\n",
              "      \n",
              "  <style>\n",
              "    .colab-df-container {\n",
              "      display:flex;\n",
              "      flex-wrap:wrap;\n",
              "      gap: 12px;\n",
              "    }\n",
              "\n",
              "    .colab-df-convert {\n",
              "      background-color: #E8F0FE;\n",
              "      border: none;\n",
              "      border-radius: 50%;\n",
              "      cursor: pointer;\n",
              "      display: none;\n",
              "      fill: #1967D2;\n",
              "      height: 32px;\n",
              "      padding: 0 0 0 0;\n",
              "      width: 32px;\n",
              "    }\n",
              "\n",
              "    .colab-df-convert:hover {\n",
              "      background-color: #E2EBFA;\n",
              "      box-shadow: 0px 1px 2px rgba(60, 64, 67, 0.3), 0px 1px 3px 1px rgba(60, 64, 67, 0.15);\n",
              "      fill: #174EA6;\n",
              "    }\n",
              "\n",
              "    [theme=dark] .colab-df-convert {\n",
              "      background-color: #3B4455;\n",
              "      fill: #D2E3FC;\n",
              "    }\n",
              "\n",
              "    [theme=dark] .colab-df-convert:hover {\n",
              "      background-color: #434B5C;\n",
              "      box-shadow: 0px 1px 3px 1px rgba(0, 0, 0, 0.15);\n",
              "      filter: drop-shadow(0px 1px 2px rgba(0, 0, 0, 0.3));\n",
              "      fill: #FFFFFF;\n",
              "    }\n",
              "  </style>\n",
              "\n",
              "      <script>\n",
              "        const buttonEl =\n",
              "          document.querySelector('#df-aba5a79b-d5bd-479c-bb0f-a57c53b61b43 button.colab-df-convert');\n",
              "        buttonEl.style.display =\n",
              "          google.colab.kernel.accessAllowed ? 'block' : 'none';\n",
              "\n",
              "        async function convertToInteractive(key) {\n",
              "          const element = document.querySelector('#df-aba5a79b-d5bd-479c-bb0f-a57c53b61b43');\n",
              "          const dataTable =\n",
              "            await google.colab.kernel.invokeFunction('convertToInteractive',\n",
              "                                                     [key], {});\n",
              "          if (!dataTable) return;\n",
              "\n",
              "          const docLinkHtml = 'Like what you see? Visit the ' +\n",
              "            '<a target=\"_blank\" href=https://colab.research.google.com/notebooks/data_table.ipynb>data table notebook</a>'\n",
              "            + ' to learn more about interactive tables.';\n",
              "          element.innerHTML = '';\n",
              "          dataTable['output_type'] = 'display_data';\n",
              "          await google.colab.output.renderOutput(dataTable, element);\n",
              "          const docLink = document.createElement('div');\n",
              "          docLink.innerHTML = docLinkHtml;\n",
              "          element.appendChild(docLink);\n",
              "        }\n",
              "      </script>\n",
              "    </div>\n",
              "  </div>\n",
              "  "
            ]
          },
          "metadata": {},
          "execution_count": 50
        }
      ]
    },
    {
      "cell_type": "code",
      "source": [
        "y_train"
      ],
      "metadata": {
        "id": "oLau5UrXrtvH",
        "outputId": "bee9e0d3-f90d-413f-c1c2-0775326d32ff",
        "colab": {
          "base_uri": "https://localhost:8080/"
        }
      },
      "execution_count": null,
      "outputs": [
        {
          "output_type": "execute_result",
          "data": {
            "text/plain": [
              "12    17905458\n",
              "5     23557477\n",
              "10    20478520\n",
              "4     23618200\n",
              "8     21966527\n",
              "9     21356033\n",
              "17     9189972\n",
              "13    16464927\n",
              "7     22705713\n",
              "15    12901155\n",
              "6     23187551\n",
              "11    19303404\n",
              "Name: Population, dtype: int64"
            ]
          },
          "metadata": {},
          "execution_count": 51
        }
      ]
    },
    {
      "cell_type": "code",
      "source": [
        "X_test"
      ],
      "metadata": {
        "id": "lfXOnr-UrvHw",
        "outputId": "3f6591d8-f516-4881-b125-abaa0a09b2f1",
        "colab": {
          "base_uri": "https://localhost:8080/",
          "height": 238
        }
      },
      "execution_count": null,
      "outputs": [
        {
          "output_type": "execute_result",
          "data": {
            "text/plain": [
              "    Year  Yearly % Change  Yearly Change  Migrants (net)  Median Age  \\\n",
              "3   2017             0.24          56346           30001        40.3   \n",
              "14  1970             2.96         404660           70298        18.9   \n",
              "1   2019             0.20          47416           30001        40.3   \n",
              "2   2018             0.22          51914           30001        40.3   \n",
              "0   2020             0.18          42899           30001        42.5   \n",
              "16  1960             3.43         337236            1000        17.5   \n",
              "\n",
              "    Fertility Rate  Density (P/Km²)  Urban Pop %  Urban Population  \\\n",
              "3             1.11              669         77.6          18369720   \n",
              "14            4.38              421         35.9           5360607   \n",
              "1             1.11              671         78.5          18662774   \n",
              "2             1.11              670         78.0          18518291   \n",
              "0             1.15              673         78.9          18802314   \n",
              "16            6.14              307         30.9           3361618   \n",
              "\n",
              "    Country's Share of World Pop  World Population  Taiwan Global Rank  \n",
              "3                           0.31        7547858925                  56  \n",
              "14                          0.40        3700437046                  35  \n",
              "1                           0.31        7713468100                  56  \n",
              "2                           0.31        7631091040                  56  \n",
              "0                           0.31        7794798739                  57  \n",
              "16                          0.36        3034949748                  38  "
            ],
            "text/html": [
              "\n",
              "  <div id=\"df-a2015902-97bf-48d4-bf09-e7051e982d0a\">\n",
              "    <div class=\"colab-df-container\">\n",
              "      <div>\n",
              "<style scoped>\n",
              "    .dataframe tbody tr th:only-of-type {\n",
              "        vertical-align: middle;\n",
              "    }\n",
              "\n",
              "    .dataframe tbody tr th {\n",
              "        vertical-align: top;\n",
              "    }\n",
              "\n",
              "    .dataframe thead th {\n",
              "        text-align: right;\n",
              "    }\n",
              "</style>\n",
              "<table border=\"1\" class=\"dataframe\">\n",
              "  <thead>\n",
              "    <tr style=\"text-align: right;\">\n",
              "      <th></th>\n",
              "      <th>Year</th>\n",
              "      <th>Yearly % Change</th>\n",
              "      <th>Yearly Change</th>\n",
              "      <th>Migrants (net)</th>\n",
              "      <th>Median Age</th>\n",
              "      <th>Fertility Rate</th>\n",
              "      <th>Density (P/Km²)</th>\n",
              "      <th>Urban Pop %</th>\n",
              "      <th>Urban Population</th>\n",
              "      <th>Country's Share of World Pop</th>\n",
              "      <th>World Population</th>\n",
              "      <th>Taiwan Global Rank</th>\n",
              "    </tr>\n",
              "  </thead>\n",
              "  <tbody>\n",
              "    <tr>\n",
              "      <th>3</th>\n",
              "      <td>2017</td>\n",
              "      <td>0.24</td>\n",
              "      <td>56346</td>\n",
              "      <td>30001</td>\n",
              "      <td>40.3</td>\n",
              "      <td>1.11</td>\n",
              "      <td>669</td>\n",
              "      <td>77.6</td>\n",
              "      <td>18369720</td>\n",
              "      <td>0.31</td>\n",
              "      <td>7547858925</td>\n",
              "      <td>56</td>\n",
              "    </tr>\n",
              "    <tr>\n",
              "      <th>14</th>\n",
              "      <td>1970</td>\n",
              "      <td>2.96</td>\n",
              "      <td>404660</td>\n",
              "      <td>70298</td>\n",
              "      <td>18.9</td>\n",
              "      <td>4.38</td>\n",
              "      <td>421</td>\n",
              "      <td>35.9</td>\n",
              "      <td>5360607</td>\n",
              "      <td>0.40</td>\n",
              "      <td>3700437046</td>\n",
              "      <td>35</td>\n",
              "    </tr>\n",
              "    <tr>\n",
              "      <th>1</th>\n",
              "      <td>2019</td>\n",
              "      <td>0.20</td>\n",
              "      <td>47416</td>\n",
              "      <td>30001</td>\n",
              "      <td>40.3</td>\n",
              "      <td>1.11</td>\n",
              "      <td>671</td>\n",
              "      <td>78.5</td>\n",
              "      <td>18662774</td>\n",
              "      <td>0.31</td>\n",
              "      <td>7713468100</td>\n",
              "      <td>56</td>\n",
              "    </tr>\n",
              "    <tr>\n",
              "      <th>2</th>\n",
              "      <td>2018</td>\n",
              "      <td>0.22</td>\n",
              "      <td>51914</td>\n",
              "      <td>30001</td>\n",
              "      <td>40.3</td>\n",
              "      <td>1.11</td>\n",
              "      <td>670</td>\n",
              "      <td>78.0</td>\n",
              "      <td>18518291</td>\n",
              "      <td>0.31</td>\n",
              "      <td>7631091040</td>\n",
              "      <td>56</td>\n",
              "    </tr>\n",
              "    <tr>\n",
              "      <th>0</th>\n",
              "      <td>2020</td>\n",
              "      <td>0.18</td>\n",
              "      <td>42899</td>\n",
              "      <td>30001</td>\n",
              "      <td>42.5</td>\n",
              "      <td>1.15</td>\n",
              "      <td>673</td>\n",
              "      <td>78.9</td>\n",
              "      <td>18802314</td>\n",
              "      <td>0.31</td>\n",
              "      <td>7794798739</td>\n",
              "      <td>57</td>\n",
              "    </tr>\n",
              "    <tr>\n",
              "      <th>16</th>\n",
              "      <td>1960</td>\n",
              "      <td>3.43</td>\n",
              "      <td>337236</td>\n",
              "      <td>1000</td>\n",
              "      <td>17.5</td>\n",
              "      <td>6.14</td>\n",
              "      <td>307</td>\n",
              "      <td>30.9</td>\n",
              "      <td>3361618</td>\n",
              "      <td>0.36</td>\n",
              "      <td>3034949748</td>\n",
              "      <td>38</td>\n",
              "    </tr>\n",
              "  </tbody>\n",
              "</table>\n",
              "</div>\n",
              "      <button class=\"colab-df-convert\" onclick=\"convertToInteractive('df-a2015902-97bf-48d4-bf09-e7051e982d0a')\"\n",
              "              title=\"Convert this dataframe to an interactive table.\"\n",
              "              style=\"display:none;\">\n",
              "        \n",
              "  <svg xmlns=\"http://www.w3.org/2000/svg\" height=\"24px\"viewBox=\"0 0 24 24\"\n",
              "       width=\"24px\">\n",
              "    <path d=\"M0 0h24v24H0V0z\" fill=\"none\"/>\n",
              "    <path d=\"M18.56 5.44l.94 2.06.94-2.06 2.06-.94-2.06-.94-.94-2.06-.94 2.06-2.06.94zm-11 1L8.5 8.5l.94-2.06 2.06-.94-2.06-.94L8.5 2.5l-.94 2.06-2.06.94zm10 10l.94 2.06.94-2.06 2.06-.94-2.06-.94-.94-2.06-.94 2.06-2.06.94z\"/><path d=\"M17.41 7.96l-1.37-1.37c-.4-.4-.92-.59-1.43-.59-.52 0-1.04.2-1.43.59L10.3 9.45l-7.72 7.72c-.78.78-.78 2.05 0 2.83L4 21.41c.39.39.9.59 1.41.59.51 0 1.02-.2 1.41-.59l7.78-7.78 2.81-2.81c.8-.78.8-2.07 0-2.86zM5.41 20L4 18.59l7.72-7.72 1.47 1.35L5.41 20z\"/>\n",
              "  </svg>\n",
              "      </button>\n",
              "      \n",
              "  <style>\n",
              "    .colab-df-container {\n",
              "      display:flex;\n",
              "      flex-wrap:wrap;\n",
              "      gap: 12px;\n",
              "    }\n",
              "\n",
              "    .colab-df-convert {\n",
              "      background-color: #E8F0FE;\n",
              "      border: none;\n",
              "      border-radius: 50%;\n",
              "      cursor: pointer;\n",
              "      display: none;\n",
              "      fill: #1967D2;\n",
              "      height: 32px;\n",
              "      padding: 0 0 0 0;\n",
              "      width: 32px;\n",
              "    }\n",
              "\n",
              "    .colab-df-convert:hover {\n",
              "      background-color: #E2EBFA;\n",
              "      box-shadow: 0px 1px 2px rgba(60, 64, 67, 0.3), 0px 1px 3px 1px rgba(60, 64, 67, 0.15);\n",
              "      fill: #174EA6;\n",
              "    }\n",
              "\n",
              "    [theme=dark] .colab-df-convert {\n",
              "      background-color: #3B4455;\n",
              "      fill: #D2E3FC;\n",
              "    }\n",
              "\n",
              "    [theme=dark] .colab-df-convert:hover {\n",
              "      background-color: #434B5C;\n",
              "      box-shadow: 0px 1px 3px 1px rgba(0, 0, 0, 0.15);\n",
              "      filter: drop-shadow(0px 1px 2px rgba(0, 0, 0, 0.3));\n",
              "      fill: #FFFFFF;\n",
              "    }\n",
              "  </style>\n",
              "\n",
              "      <script>\n",
              "        const buttonEl =\n",
              "          document.querySelector('#df-a2015902-97bf-48d4-bf09-e7051e982d0a button.colab-df-convert');\n",
              "        buttonEl.style.display =\n",
              "          google.colab.kernel.accessAllowed ? 'block' : 'none';\n",
              "\n",
              "        async function convertToInteractive(key) {\n",
              "          const element = document.querySelector('#df-a2015902-97bf-48d4-bf09-e7051e982d0a');\n",
              "          const dataTable =\n",
              "            await google.colab.kernel.invokeFunction('convertToInteractive',\n",
              "                                                     [key], {});\n",
              "          if (!dataTable) return;\n",
              "\n",
              "          const docLinkHtml = 'Like what you see? Visit the ' +\n",
              "            '<a target=\"_blank\" href=https://colab.research.google.com/notebooks/data_table.ipynb>data table notebook</a>'\n",
              "            + ' to learn more about interactive tables.';\n",
              "          element.innerHTML = '';\n",
              "          dataTable['output_type'] = 'display_data';\n",
              "          await google.colab.output.renderOutput(dataTable, element);\n",
              "          const docLink = document.createElement('div');\n",
              "          docLink.innerHTML = docLinkHtml;\n",
              "          element.appendChild(docLink);\n",
              "        }\n",
              "      </script>\n",
              "    </div>\n",
              "  </div>\n",
              "  "
            ]
          },
          "metadata": {},
          "execution_count": 52
        }
      ]
    },
    {
      "cell_type": "code",
      "source": [
        "y_test"
      ],
      "metadata": {
        "id": "8o_X7rpFrwm0",
        "outputId": "a1f70578-65ed-4050-b522-a6bfe9ea6ad9",
        "colab": {
          "base_uri": "https://localhost:8080/"
        }
      },
      "execution_count": null,
      "outputs": [
        {
          "output_type": "execute_result",
          "data": {
            "text/plain": [
              "3     23674546\n",
              "14    14924455\n",
              "1     23773876\n",
              "2     23726460\n",
              "0     23816775\n",
              "16    10876150\n",
              "Name: Population, dtype: int64"
            ]
          },
          "metadata": {},
          "execution_count": 53
        }
      ]
    },
    {
      "cell_type": "code",
      "source": [
        "from sklearn.linear_model import LinearRegression\n",
        "model = LinearRegression()\n",
        "model.fit(X_train,y_train)\n",
        "test_predictions = model.predict(X_test)"
      ],
      "metadata": {
        "id": "pqUgSQhhrySS"
      },
      "execution_count": null,
      "outputs": []
    },
    {
      "cell_type": "code",
      "source": [
        "test_predictions"
      ],
      "metadata": {
        "id": "QGWVKwH0r4iu",
        "outputId": "ca0d22ad-6443-4303-9f38-e82e427371c2",
        "colab": {
          "base_uri": "https://localhost:8080/"
        }
      },
      "execution_count": null,
      "outputs": [
        {
          "output_type": "execute_result",
          "data": {
            "text/plain": [
              "array([23678771.78238666, 14823303.2910707 , 23833329.98573983,\n",
              "       23764809.78896785, 23833623.03040385, 11098715.10082203])"
            ]
          },
          "metadata": {},
          "execution_count": 55
        }
      ]
    },
    {
      "cell_type": "code",
      "source": [
        "from sklearn.metrics import mean_absolute_error,mean_squared_error\n",
        "MAE = mean_absolute_error(y_test,test_predictions)\n",
        "MSE = mean_squared_error(y_test,test_predictions)\n",
        "RMSE = np.sqrt(MSE)"
      ],
      "metadata": {
        "id": "EufHo5sor5Km"
      },
      "execution_count": null,
      "outputs": []
    },
    {
      "cell_type": "code",
      "source": [
        "MAE"
      ],
      "metadata": {
        "id": "jtBn-WTGr-EW",
        "outputId": "47ddcbeb-3116-4c94-871a-5d86444b68dd",
        "colab": {
          "base_uri": "https://localhost:8080/"
        }
      },
      "execution_count": null,
      "outputs": [
        {
          "output_type": "execute_result",
          "data": {
            "text/plain": [
              "73765.73287491997"
            ]
          },
          "metadata": {},
          "execution_count": 57
        }
      ]
    },
    {
      "cell_type": "code",
      "source": [
        "MSE"
      ],
      "metadata": {
        "id": "a0PUNCR2r-f6",
        "outputId": "f0851220-ac7e-4477-d275-62531734467d",
        "colab": {
          "base_uri": "https://localhost:8080/"
        }
      },
      "execution_count": null,
      "outputs": [
        {
          "output_type": "execute_result",
          "data": {
            "text/plain": [
              "10845681403.789587"
            ]
          },
          "metadata": {},
          "execution_count": 58
        }
      ]
    },
    {
      "cell_type": "code",
      "source": [
        "RMSE"
      ],
      "metadata": {
        "id": "RpLjAsQtsAnC",
        "outputId": "50065e74-fb7a-403c-e31e-01388bc9096c",
        "colab": {
          "base_uri": "https://localhost:8080/"
        }
      },
      "execution_count": null,
      "outputs": [
        {
          "output_type": "execute_result",
          "data": {
            "text/plain": [
              "104142.60129164043"
            ]
          },
          "metadata": {},
          "execution_count": 59
        }
      ]
    },
    {
      "cell_type": "code",
      "source": [
        "df['Population'].mean()"
      ],
      "metadata": {
        "id": "wr2ICIGAsBLA",
        "outputId": "ae94dcfc-6a7b-4cd7-c269-45495c7d712b",
        "colab": {
          "base_uri": "https://localhost:8080/"
        }
      },
      "execution_count": null,
      "outputs": [
        {
          "output_type": "execute_result",
          "data": {
            "text/plain": [
              "19634844.388888888"
            ]
          },
          "metadata": {},
          "execution_count": 60
        }
      ]
    },
    {
      "cell_type": "code",
      "source": [
        "test_predictions = model.predict(X_test)\n",
        "test_res = y_test - test_predictions"
      ],
      "metadata": {
        "id": "p_cDPPUKsClu"
      },
      "execution_count": null,
      "outputs": []
    },
    {
      "cell_type": "code",
      "source": [
        "sns.scatterplot(x=y_test,y=test_res)\n",
        "plt.axhline(y=0, color='r', linestyle='--')"
      ],
      "metadata": {
        "id": "_8u9kJY8sD5a",
        "outputId": "9f1c5c7e-75a6-4bc5-ce74-294e941eccfe",
        "colab": {
          "base_uri": "https://localhost:8080/",
          "height": 296
        }
      },
      "execution_count": null,
      "outputs": [
        {
          "output_type": "execute_result",
          "data": {
            "text/plain": [
              "<matplotlib.lines.Line2D at 0x7f2acdd3d110>"
            ]
          },
          "metadata": {},
          "execution_count": 62
        },
        {
          "output_type": "display_data",
          "data": {
            "text/plain": [
              "<Figure size 432x288 with 1 Axes>"
            ],
            "image/png": "[encoded data removed]"
          },
          "metadata": {
            "needs_background": "light"
          }
        }
      ]
    },
    {
      "cell_type": "code",
      "source": [
        "len(test_res)"
      ],
      "metadata": {
        "id": "yTmPqjd6sFrm",
        "outputId": "45850475-78e7-4857-a130-8804f2e606a6",
        "colab": {
          "base_uri": "https://localhost:8080/"
        }
      },
      "execution_count": null,
      "outputs": [
        {
          "output_type": "execute_result",
          "data": {
            "text/plain": [
              "6"
            ]
          },
          "metadata": {},
          "execution_count": 63
        }
      ]
    },
    {
      "cell_type": "code",
      "source": [
        "sns.displot(test_res,kde=True)"
      ],
      "metadata": {
        "id": "_NiDPV_bsHN-",
        "outputId": "10a7dfd3-e1ec-46ea-cd14-4c93fe5125af",
        "colab": {
          "base_uri": "https://localhost:8080/",
          "height": 386
        }
      },
      "execution_count": null,
      "outputs": [
        {
          "output_type": "execute_result",
          "data": {
            "text/plain": [
              "<seaborn.axisgrid.FacetGrid at 0x7f2acddad550>"
            ]
          },
          "metadata": {},
          "execution_count": 64
        },
        {
          "output_type": "display_data",
          "data": {
            "text/plain": [
              "<Figure size 360x360 with 1 Axes>"
            ],
            "image/png": "[encoded data removed]"
          },
          "metadata": {
            "needs_background": "light"
          }
        }
      ]
    },
    {
      "cell_type": "code",
      "source": [
        "final_model = LinearRegression()\n",
        "final_model.fit(X,y)\n",
        "y_hat = final_model.predict(X)"
      ],
      "metadata": {
        "id": "y-6zJ6o_sJsX"
      },
      "execution_count": null,
      "outputs": []
    },
    {
      "cell_type": "code",
      "source": [
        "fig,axes = plt.subplots(nrows=1,ncols=3,figsize=(16,6))\n",
        "\n",
        "axes[0].plot(df['Year'],df['Population'],'o')\n",
        "axes[0].plot(df['Year'],y_hat,'o',color='red')\n",
        "axes[0].set_ylabel(\"Population\")\n",
        "axes[0].set_xlabel(\"Year\")\n",
        "axes[0].set_title(\"Taiwan Population\")\n",
        "\n",
        "axes[1].plot(df['Year'],df['World Population'],'o')\n",
        "axes[1].plot(df['Year'],y_hat,'o',color='red')\n",
        "axes[1].set_ylabel(\"Population\")\n",
        "axes[1].set_xlabel(\"Year\")\n",
        "axes[1].set_title(\"World Population\")\n",
        "\n",
        "axes[2].plot(df['Year'],df['Taiwan Global Rank'],'o')\n",
        "axes[2].plot(df['Year'],y_hat,'o',color='red')\n",
        "axes[2].set_ylabel(\"Taiwan Global Rank\")\n",
        "axes[2].set_xlabel(\"Year\")\n",
        "axes[2].set_title(\"Global Rank\")\n",
        "plt.tight_layout();\n"
      ],
      "metadata": {
        "id": "fEixLCCXsNde",
        "outputId": "0b462035-11fa-4e31-96b3-a92e233c9a4f",
        "colab": {
          "base_uri": "https://localhost:8080/",
          "height": 441
        }
      },
      "execution_count": null,
      "outputs": [
        {
          "output_type": "display_data",
          "data": {
            "text/plain": [
              "<Figure size 1152x432 with 3 Axes>"
            ],
            "image/png": "[encoded data removed]"
          },
          "metadata": {
            "needs_background": "light"
          }
        }
      ]
    },
    {
      "cell_type": "code",
      "source": [
        "residuals = y_hat - y"
      ],
      "metadata": {
        "id": "iSkLanIlsPaP"
      },
      "execution_count": null,
      "outputs": []
    },
    {
      "cell_type": "code",
      "source": [
        "sns.scatterplot(x=y,y=residuals)\n",
        "plt.axhline(y=0, color='r', linestyle='--')"
      ],
      "metadata": {
        "id": "w4p8CGsxsR9_",
        "outputId": "86890305-0cd8-4aa6-f365-5b0ae4743ddd",
        "colab": {
          "base_uri": "https://localhost:8080/",
          "height": 296
        }
      },
      "execution_count": null,
      "outputs": [
        {
          "output_type": "execute_result",
          "data": {
            "text/plain": [
              "<matplotlib.lines.Line2D at 0x7f2acdd774d0>"
            ]
          },
          "metadata": {},
          "execution_count": 68
        },
        {
          "output_type": "display_data",
          "data": {
            "text/plain": [
              "<Figure size 432x288 with 1 Axes>"
            ],
            "image/png": "[encoded data removed]"
          },
          "metadata": {
            "needs_background": "light"
          }
        }
      ]
    },
    {
      "cell_type": "code",
      "source": [
        "final_model.coef_"
      ],
      "metadata": {
        "id": "bG-uzQXBsTpy",
        "outputId": "f09824ea-2854-4f0d-fd2e-f8da0e4c19cf",
        "colab": {
          "base_uri": "https://localhost:8080/"
        }
      },
      "execution_count": null,
      "outputs": [
        {
          "output_type": "execute_result",
          "data": {
            "text/plain": [
              "array([ 4.09458852e+03,  1.35805358e+05, -3.01720113e-01, -6.34557030e-01,\n",
              "       -1.42129393e+04, -8.28988637e+04,  3.18444530e+04, -4.15673279e+04,\n",
              "        2.18290849e-01,  2.56439970e+06,  4.63240140e-05, -5.86415101e+03])"
            ]
          },
          "metadata": {},
          "execution_count": 69
        }
      ]
    },
    {
      "cell_type": "code",
      "source": [
        "coeff_df = pd.DataFrame(final_model.coef_,X.columns,columns=['Coefficient'])\n",
        "coeff_df"
      ],
      "metadata": {
        "id": "23itC8LDsVQ6",
        "outputId": "edc89bcf-ba4f-451f-a8cd-0ff46e5c7e8f",
        "colab": {
          "base_uri": "https://localhost:8080/",
          "height": 426
        }
      },
      "execution_count": null,
      "outputs": [
        {
          "output_type": "execute_result",
          "data": {
            "text/plain": [
              "                               Coefficient\n",
              "Year                          4.094589e+03\n",
              "Yearly % Change               1.358054e+05\n",
              "Yearly Change                -3.017201e-01\n",
              "Migrants (net)               -6.345570e-01\n",
              "Median Age                   -1.421294e+04\n",
              "Fertility Rate               -8.289886e+04\n",
              "Density (P/Km²)               3.184445e+04\n",
              "Urban Pop %                  -4.156733e+04\n",
              "Urban Population              2.182908e-01\n",
              "Country's Share of World Pop  2.564400e+06\n",
              "World Population              4.632401e-05\n",
              "Taiwan Global Rank           -5.864151e+03"
            ],
            "text/html": [
              "\n",
              "  <div id=\"df-c8da4add-dd15-466f-bbfe-78e3f24ac224\">\n",
              "    <div class=\"colab-df-container\">\n",
              "      <div>\n",
              "<style scoped>\n",
              "    .dataframe tbody tr th:only-of-type {\n",
              "        vertical-align: middle;\n",
              "    }\n",
              "\n",
              "    .dataframe tbody tr th {\n",
              "        vertical-align: top;\n",
              "    }\n",
              "\n",
              "    .dataframe thead th {\n",
              "        text-align: right;\n",
              "    }\n",
              "</style>\n",
              "<table border=\"1\" class=\"dataframe\">\n",
              "  <thead>\n",
              "    <tr style=\"text-align: right;\">\n",
              "      <th></th>\n",
              "      <th>Coefficient</th>\n",
              "    </tr>\n",
              "  </thead>\n",
              "  <tbody>\n",
              "    <tr>\n",
              "      <th>Year</th>\n",
              "      <td>4.094589e+03</td>\n",
              "    </tr>\n",
              "    <tr>\n",
              "      <th>Yearly % Change</th>\n",
              "      <td>1.358054e+05</td>\n",
              "    </tr>\n",
              "    <tr>\n",
              "      <th>Yearly Change</th>\n",
              "      <td>-3.017201e-01</td>\n",
              "    </tr>\n",
              "    <tr>\n",
              "      <th>Migrants (net)</th>\n",
              "      <td>-6.345570e-01</td>\n",
              "    </tr>\n",
              "    <tr>\n",
              "      <th>Median Age</th>\n",
              "      <td>-1.421294e+04</td>\n",
              "    </tr>\n",
              "    <tr>\n",
              "      <th>Fertility Rate</th>\n",
              "      <td>-8.289886e+04</td>\n",
              "    </tr>\n",
              "    <tr>\n",
              "      <th>Density (P/Km²)</th>\n",
              "      <td>3.184445e+04</td>\n",
              "    </tr>\n",
              "    <tr>\n",
              "      <th>Urban Pop %</th>\n",
              "      <td>-4.156733e+04</td>\n",
              "    </tr>\n",
              "    <tr>\n",
              "      <th>Urban Population</th>\n",
              "      <td>2.182908e-01</td>\n",
              "    </tr>\n",
              "    <tr>\n",
              "      <th>Country's Share of World Pop</th>\n",
              "      <td>2.564400e+06</td>\n",
              "    </tr>\n",
              "    <tr>\n",
              "      <th>World Population</th>\n",
              "      <td>4.632401e-05</td>\n",
              "    </tr>\n",
              "    <tr>\n",
              "      <th>Taiwan Global Rank</th>\n",
              "      <td>-5.864151e+03</td>\n",
              "    </tr>\n",
              "  </tbody>\n",
              "</table>\n",
              "</div>\n",
              "      <button class=\"colab-df-convert\" onclick=\"convertToInteractive('df-c8da4add-dd15-466f-bbfe-78e3f24ac224')\"\n",
              "              title=\"Convert this dataframe to an interactive table.\"\n",
              "              style=\"display:none;\">\n",
              "        \n",
              "  <svg xmlns=\"http://www.w3.org/2000/svg\" height=\"24px\"viewBox=\"0 0 24 24\"\n",
              "       width=\"24px\">\n",
              "    <path d=\"M0 0h24v24H0V0z\" fill=\"none\"/>\n",
              "    <path d=\"M18.56 5.44l.94 2.06.94-2.06 2.06-.94-2.06-.94-.94-2.06-.94 2.06-2.06.94zm-11 1L8.5 8.5l.94-2.06 2.06-.94-2.06-.94L8.5 2.5l-.94 2.06-2.06.94zm10 10l.94 2.06.94-2.06 2.06-.94-2.06-.94-.94-2.06-.94 2.06-2.06.94z\"/><path d=\"M17.41 7.96l-1.37-1.37c-.4-.4-.92-.59-1.43-.59-.52 0-1.04.2-1.43.59L10.3 9.45l-7.72 7.72c-.78.78-.78 2.05 0 2.83L4 21.41c.39.39.9.59 1.41.59.51 0 1.02-.2 1.41-.59l7.78-7.78 2.81-2.81c.8-.78.8-2.07 0-2.86zM5.41 20L4 18.59l7.72-7.72 1.47 1.35L5.41 20z\"/>\n",
              "  </svg>\n",
              "      </button>\n",
              "      \n",
              "  <style>\n",
              "    .colab-df-container {\n",
              "      display:flex;\n",
              "      flex-wrap:wrap;\n",
              "      gap: 12px;\n",
              "    }\n",
              "\n",
              "    .colab-df-convert {\n",
              "      background-color: #E8F0FE;\n",
              "      border: none;\n",
              "      border-radius: 50%;\n",
              "      cursor: pointer;\n",
              "      display: none;\n",
              "      fill: #1967D2;\n",
              "      height: 32px;\n",
              "      padding: 0 0 0 0;\n",
              "      width: 32px;\n",
              "    }\n",
              "\n",
              "    .colab-df-convert:hover {\n",
              "      background-color: #E2EBFA;\n",
              "      box-shadow: 0px 1px 2px rgba(60, 64, 67, 0.3), 0px 1px 3px 1px rgba(60, 64, 67, 0.15);\n",
              "      fill: #174EA6;\n",
              "    }\n",
              "\n",
              "    [theme=dark] .colab-df-convert {\n",
              "      background-color: #3B4455;\n",
              "      fill: #D2E3FC;\n",
              "    }\n",
              "\n",
              "    [theme=dark] .colab-df-convert:hover {\n",
              "      background-color: #434B5C;\n",
              "      box-shadow: 0px 1px 3px 1px rgba(0, 0, 0, 0.15);\n",
              "      filter: drop-shadow(0px 1px 2px rgba(0, 0, 0, 0.3));\n",
              "      fill: #FFFFFF;\n",
              "    }\n",
              "  </style>\n",
              "\n",
              "      <script>\n",
              "        const buttonEl =\n",
              "          document.querySelector('#df-c8da4add-dd15-466f-bbfe-78e3f24ac224 button.colab-df-convert');\n",
              "        buttonEl.style.display =\n",
              "          google.colab.kernel.accessAllowed ? 'block' : 'none';\n",
              "\n",
              "        async function convertToInteractive(key) {\n",
              "          const element = document.querySelector('#df-c8da4add-dd15-466f-bbfe-78e3f24ac224');\n",
              "          const dataTable =\n",
              "            await google.colab.kernel.invokeFunction('convertToInteractive',\n",
              "                                                     [key], {});\n",
              "          if (!dataTable) return;\n",
              "\n",
              "          const docLinkHtml = 'Like what you see? Visit the ' +\n",
              "            '<a target=\"_blank\" href=https://colab.research.google.com/notebooks/data_table.ipynb>data table notebook</a>'\n",
              "            + ' to learn more about interactive tables.';\n",
              "          element.innerHTML = '';\n",
              "          dataTable['output_type'] = 'display_data';\n",
              "          await google.colab.output.renderOutput(dataTable, element);\n",
              "          const docLink = document.createElement('div');\n",
              "          docLink.innerHTML = docLinkHtml;\n",
              "          element.appendChild(docLink);\n",
              "        }\n",
              "      </script>\n",
              "    </div>\n",
              "  </div>\n",
              "  "
            ]
          },
          "metadata": {},
          "execution_count": 70
        }
      ]
    },
    {
      "cell_type": "code",
      "source": [
        "from sklearn.linear_model import LogisticRegression\n",
        "from sklearn.preprocessing import LabelEncoder\n",
        "model = LogisticRegression()\n",
        "model.fit(X_train,y_train)\n",
        "test_predictions = model.predict(X_test)\n"
      ],
      "metadata": {
        "id": "4wd-7xGcht5p"
      },
      "execution_count": null,
      "outputs": []
    },
    {
      "cell_type": "code",
      "source": [
        "test_predictions"
      ],
      "metadata": {
        "colab": {
          "base_uri": "https://localhost:8080/"
        },
        "id": "Bl7Pp0cmiO49",
        "outputId": "132bb1d9-7281-43b0-9e65-694ac1c5f36d"
      },
      "execution_count": null,
      "outputs": [
        {
          "output_type": "execute_result",
          "data": {
            "text/plain": [
              "array([23618200, 12901155, 23618200, 23618200, 23618200, 12901155])"
            ]
          },
          "metadata": {},
          "execution_count": 79
        }
      ]
    },
    {
      "cell_type": "code",
      "source": [
        "MAE = mean_absolute_error(y_test,test_predictions)\n",
        "MSE = mean_squared_error(y_test,test_predictions)\n",
        "RMSE = np.sqrt(MSE)"
      ],
      "metadata": {
        "id": "OyeWGmaBiPfL"
      },
      "execution_count": null,
      "outputs": []
    },
    {
      "cell_type": "code",
      "source": [
        "MAE"
      ],
      "metadata": {
        "colab": {
          "base_uri": "https://localhost:8080/"
        },
        "id": "oex55FU8iThQ",
        "outputId": "24e448ec-3566-4088-dedd-de52bdc1020b"
      },
      "execution_count": null,
      "outputs": [
        {
          "output_type": "execute_result",
          "data": {
            "text/plain": [
              "761193.6666666666"
            ]
          },
          "metadata": {},
          "execution_count": 81
        }
      ]
    },
    {
      "cell_type": "code",
      "source": [
        "MSE"
      ],
      "metadata": {
        "colab": {
          "base_uri": "https://localhost:8080/"
        },
        "id": "0N6413F2iUzI",
        "outputId": "250fef60-4a9e-4255-8a5e-3c12f188e2f8"
      },
      "execution_count": null,
      "outputs": [
        {
          "output_type": "execute_result",
          "data": {
            "text/plain": [
              "1378825047823.6667"
            ]
          },
          "metadata": {},
          "execution_count": 82
        }
      ]
    },
    {
      "cell_type": "code",
      "source": [
        "RMSE"
      ],
      "metadata": {
        "colab": {
          "base_uri": "https://localhost:8080/"
        },
        "id": "t1BW0ZPwiXf_",
        "outputId": "22c81679-4d85-4698-a9a4-50eae439f302"
      },
      "execution_count": null,
      "outputs": [
        {
          "output_type": "execute_result",
          "data": {
            "text/plain": [
              "1174233.813098425"
            ]
          },
          "metadata": {},
          "execution_count": 83
        }
      ]
    },
    {
      "cell_type": "code",
      "source": [
        "test_predictions = model.predict(X_test)\n",
        "test_res = y_test - test_predictions\n",
        "\n",
        "sns.scatterplot(x=y_test,y=test_res)\n",
        "plt.axhline(y=0, color='r', linestyle='--')\n",
        "\n",
        "len(test_res)\n",
        "sns.displot(test_res,kde=True)\n",
        "\n",
        "final_model = LogisticRegression()\n",
        "final_model.fit(X,y)\n",
        "y_hat = final_model.predict(X)\n",
        "\n",
        "fig,axes = plt.subplots(nrows=1,ncols=3,figsize=(16,6))\n",
        "\n",
        "axes[0].plot(df['Year'],df['Population'],'o')\n",
        "axes[0].plot(df['Year'],y_hat,'o',color='red')\n",
        "axes[0].set_ylabel(\"Population\")\n",
        "axes[0].set_xlabel(\"Year\")\n",
        "axes[0].set_title(\"Taiwan Population\")\n",
        "\n",
        "axes[1].plot(df['Year'],df['World Population'],'o')\n",
        "axes[1].plot(df['Year'],y_hat,'o',color='red')\n",
        "axes[1].set_ylabel(\"Population\")\n",
        "axes[1].set_xlabel(\"Year\")\n",
        "axes[1].set_title(\"World Population\")\n",
        "\n",
        "axes[2].plot(df['Year'],df['Taiwan Global Rank'],'o')\n",
        "axes[2].plot(df['Year'],y_hat,'o',color='red')\n",
        "axes[2].set_ylabel(\"Taiwan Global Rank\")\n",
        "axes[2].set_xlabel(\"Year\")\n",
        "axes[2].set_title(\"Global Rank\")\n",
        "plt.tight_layout();\n",
        "\n",
        "residuals = y_hat - y\n",
        "\n",
        "sns.scatterplot(x=y,y=residuals)\n",
        "plt.axhline(y=0, color='r', linestyle='--')\n",
        "\n",
        "#final_model.coef_\n",
        "#coeff_df = pd.DataFrame(final_model.coef_,X.columns,columns=['Coefficient'])\n",
        "#coeff_d"
      ],
      "metadata": {
        "colab": {
          "base_uri": "https://localhost:8080/",
          "height": 1000
        },
        "id": "7Csg3yOnj6ND",
        "outputId": "867801df-87ad-4faf-d038-d0cb54c80366"
      },
      "execution_count": null,
      "outputs": [
        {
          "output_type": "execute_result",
          "data": {
            "text/plain": [
              "<matplotlib.lines.Line2D at 0x7f2acd8fab50>"
            ]
          },
          "metadata": {},
          "execution_count": 91
        },
        {
          "output_type": "display_data",
          "data": {
            "text/plain": [
              "<Figure size 432x288 with 1 Axes>"
            ],
            "image/png": "[encoded data removed]"
          },
          "metadata": {
            "needs_background": "light"
          }
        },
        {
          "output_type": "display_data",
          "data": {
            "text/plain": [
              "<Figure size 360x360 with 1 Axes>"
            ],
            "image/png": "[encoded data removed]"
          },
          "metadata": {
            "needs_background": "light"
          }
        },
        {
          "output_type": "display_data",
          "data": {
            "text/plain": [
              "<Figure size 1152x432 with 3 Axes>"
            ],
            "image/png": "[encoded data removed]"
          },
          "metadata": {
            "needs_background": "light"
          }
        }
      ]
    },
    {
      "cell_type": "code",
      "source": [
        "from sklearn import tree\n",
        "\n",
        "#建立決策樹并且開始訓練\n",
        "model = tree.DecisionTreeClassifier()\n",
        "model.fit(X_train,y_train)\n",
        "test_predictions = model.predict(X_test)"
      ],
      "metadata": {
        "id": "7rveTw1elLp6"
      },
      "execution_count": null,
      "outputs": []
    },
    {
      "cell_type": "code",
      "source": [
        "test_predictions"
      ],
      "metadata": {
        "colab": {
          "base_uri": "https://localhost:8080/"
        },
        "id": "47J9jUdYloTh",
        "outputId": "58e7d5ab-2f0e-4119-b5e6-c522247d1d3f"
      },
      "execution_count": null,
      "outputs": [
        {
          "output_type": "execute_result",
          "data": {
            "text/plain": [
              "array([23618200, 16464927, 23618200, 23618200, 23618200, 12901155])"
            ]
          },
          "metadata": {},
          "execution_count": 93
        }
      ]
    },
    {
      "cell_type": "code",
      "source": [
        "MAE = mean_absolute_error(y_test,test_predictions)\n",
        "MSE = mean_squared_error(y_test,test_predictions)\n",
        "RMSE = np.sqrt(MSE)"
      ],
      "metadata": {
        "id": "4WkR9x5ulr0e"
      },
      "execution_count": null,
      "outputs": []
    },
    {
      "cell_type": "code",
      "source": [
        "MAE"
      ],
      "metadata": {
        "colab": {
          "base_uri": "https://localhost:8080/"
        },
        "id": "W0b1uEIVltOK",
        "outputId": "5bb78851-61c1-48c9-8fa1-63a2f08f1a42"
      },
      "execution_count": null,
      "outputs": [
        {
          "output_type": "execute_result",
          "data": {
            "text/plain": [
              "680722.3333333334"
            ]
          },
          "metadata": {},
          "execution_count": 95
        }
      ]
    },
    {
      "cell_type": "code",
      "source": [
        "MSE"
      ],
      "metadata": {
        "colab": {
          "base_uri": "https://localhost:8080/"
        },
        "id": "nScl4Pvblucm",
        "outputId": "450fca74-6bc0-4920-bf94-c0dec23f91ee"
      },
      "execution_count": null,
      "outputs": [
        {
          "output_type": "execute_result",
          "data": {
            "text/plain": [
              "1092043563287.6666"
            ]
          },
          "metadata": {},
          "execution_count": 96
        }
      ]
    },
    {
      "cell_type": "code",
      "source": [
        "RMSE"
      ],
      "metadata": {
        "colab": {
          "base_uri": "https://localhost:8080/"
        },
        "id": "RqPzqyWAlvgs",
        "outputId": "923ac392-41b8-4239-8b6c-32d02c5b3f1e"
      },
      "execution_count": null,
      "outputs": [
        {
          "output_type": "execute_result",
          "data": {
            "text/plain": [
              "1045008.8819180757"
            ]
          },
          "metadata": {},
          "execution_count": 97
        }
      ]
    },
    {
      "cell_type": "code",
      "source": [
        "from sklearn.svm import SVC\n",
        "model = SVC()\n",
        "model.fit(X_train,y_train)\n",
        "test_predictions = model.predict(X_test)"
      ],
      "metadata": {
        "id": "JwHq7LsYmWOZ"
      },
      "execution_count": null,
      "outputs": []
    },
    {
      "cell_type": "code",
      "source": [
        "test_predictions"
      ],
      "metadata": {
        "colab": {
          "base_uri": "https://localhost:8080/"
        },
        "id": "lej8WaoGmd5e",
        "outputId": "dc6a2edf-8dc2-4110-e9f7-0236047e6a0d"
      },
      "execution_count": null,
      "outputs": [
        {
          "output_type": "execute_result",
          "data": {
            "text/plain": [
              "array([23618200, 12901155, 23618200, 23618200, 23618200,  9189972])"
            ]
          },
          "metadata": {},
          "execution_count": 99
        }
      ]
    },
    {
      "cell_type": "code",
      "source": [
        "MAE = mean_absolute_error(y_test,test_predictions)\n",
        "MSE = mean_squared_error(y_test,test_predictions)\n",
        "RMSE = np.sqrt(MSE)"
      ],
      "metadata": {
        "id": "i_pjNpEqmfd3"
      },
      "execution_count": null,
      "outputs": []
    },
    {
      "cell_type": "code",
      "source": [
        "MAE"
      ],
      "metadata": {
        "colab": {
          "base_uri": "https://localhost:8080/"
        },
        "id": "z3KPmqnWmhEu",
        "outputId": "c640dff9-8a5d-419c-f8fd-fcb2556edab3"
      },
      "execution_count": null,
      "outputs": [
        {
          "output_type": "execute_result",
          "data": {
            "text/plain": [
              "704722.5"
            ]
          },
          "metadata": {},
          "execution_count": 101
        }
      ]
    },
    {
      "cell_type": "code",
      "source": [
        "MSE"
      ],
      "metadata": {
        "colab": {
          "base_uri": "https://localhost:8080/"
        },
        "id": "Ld1wdWQGmiiU",
        "outputId": "c4a6c251-c451-47c0-8655-082745031605"
      },
      "execution_count": null,
      "outputs": [
        {
          "output_type": "execute_result",
          "data": {
            "text/plain": [
              "1169250214100.1667"
            ]
          },
          "metadata": {},
          "execution_count": 102
        }
      ]
    },
    {
      "cell_type": "code",
      "source": [
        "RMSE"
      ],
      "metadata": {
        "colab": {
          "base_uri": "https://localhost:8080/"
        },
        "id": "BhHs4pj7mjlr",
        "outputId": "68d1df49-d237-4544-99cb-437d777a7dcd"
      },
      "execution_count": null,
      "outputs": [
        {
          "output_type": "execute_result",
          "data": {
            "text/plain": [
              "1081318.738439396"
            ]
          },
          "metadata": {},
          "execution_count": 103
        }
      ]
    },
    {
      "cell_type": "code",
      "source": [
        "from sklearn import ensemble\n",
        "model = ensemble.RandomForestClassifier(n_estimators = 100)\n",
        "model.fit(X_train,y_train)\n",
        "test_predictions = model.predict(X_test)"
      ],
      "metadata": {
        "id": "vwR2r9NmnJY2"
      },
      "execution_count": null,
      "outputs": []
    },
    {
      "cell_type": "code",
      "source": [
        "test_predictions"
      ],
      "metadata": {
        "colab": {
          "base_uri": "https://localhost:8080/"
        },
        "id": "SaZS9xfXnet5",
        "outputId": "4a69ca3a-429b-46d9-8b43-78188f09509b"
      },
      "execution_count": null,
      "outputs": [
        {
          "output_type": "execute_result",
          "data": {
            "text/plain": [
              "array([23618200, 12901155, 23618200, 23618200, 23618200,  9189972])"
            ]
          },
          "metadata": {},
          "execution_count": 107
        }
      ]
    },
    {
      "cell_type": "code",
      "source": [
        "MAE = mean_absolute_error(y_test,test_predictions)\n",
        "MSE = mean_squared_error(y_test,test_predictions)\n",
        "RMSE = np.sqrt(MSE)"
      ],
      "metadata": {
        "id": "OCU1ft7JnitH"
      },
      "execution_count": null,
      "outputs": []
    },
    {
      "cell_type": "code",
      "source": [
        "MAE"
      ],
      "metadata": {
        "colab": {
          "base_uri": "https://localhost:8080/"
        },
        "id": "b0fATkdInocc",
        "outputId": "55cfd764-e0bd-48bb-9bd0-835eff912b51"
      },
      "execution_count": null,
      "outputs": [
        {
          "output_type": "execute_result",
          "data": {
            "text/plain": [
              "704722.5"
            ]
          },
          "metadata": {},
          "execution_count": 109
        }
      ]
    },
    {
      "cell_type": "code",
      "source": [
        "MSE"
      ],
      "metadata": {
        "colab": {
          "base_uri": "https://localhost:8080/"
        },
        "id": "IJf1_zxIoL03",
        "outputId": "7630592d-6680-46d2-8b15-d4dc25de178e"
      },
      "execution_count": null,
      "outputs": [
        {
          "output_type": "execute_result",
          "data": {
            "text/plain": [
              "1169250214100.1667"
            ]
          },
          "metadata": {},
          "execution_count": 110
        }
      ]
    },
    {
      "cell_type": "code",
      "source": [
        "RMSE"
      ],
      "metadata": {
        "colab": {
          "base_uri": "https://localhost:8080/"
        },
        "id": "r0zPpoVXoNAI",
        "outputId": "e7372632-0290-4d75-eaec-afeb6d048e01"
      },
      "execution_count": null,
      "outputs": [
        {
          "output_type": "execute_result",
          "data": {
            "text/plain": [
              "1081318.738439396"
            ]
          },
          "metadata": {},
          "execution_count": 111
        }
      ]
    },
    {
      "cell_type": "code",
      "source": [
        "from sklearn import ensemble\n",
        "model = ensemble.RandomForestClassifier(n_estimators = 50)\n",
        "model.fit(X_train,y_train)\n",
        "test_predictions = model.predict(X_test)"
      ],
      "metadata": {
        "id": "ZKIvrHRerNVu"
      },
      "execution_count": null,
      "outputs": []
    },
    {
      "cell_type": "code",
      "source": [
        "test_predictions"
      ],
      "metadata": {
        "colab": {
          "base_uri": "https://localhost:8080/"
        },
        "id": "1r5KY_AcrN_Y",
        "outputId": "7c592119-3ff0-4f59-b07a-e4d9b9ef01a4"
      },
      "execution_count": null,
      "outputs": [
        {
          "output_type": "execute_result",
          "data": {
            "text/plain": [
              "array([23618200, 16464927, 23618200, 23618200, 23618200,  9189972])"
            ]
          },
          "metadata": {},
          "execution_count": 116
        }
      ]
    },
    {
      "cell_type": "code",
      "source": [
        "MAE = mean_absolute_error(y_test,test_predictions)\n",
        "MSE = mean_squared_error(y_test,test_predictions)\n",
        "RMSE = np.sqrt(MSE)"
      ],
      "metadata": {
        "id": "-ooPWKgBrPQ9"
      },
      "execution_count": null,
      "outputs": []
    },
    {
      "cell_type": "code",
      "source": [
        "MAE"
      ],
      "metadata": {
        "id": "cWbmqETvrR-m",
        "outputId": "ca4ea93a-0aaa-4834-e84c-d7974d2e9d5c",
        "colab": {
          "base_uri": "https://localhost:8080/"
        }
      },
      "execution_count": null,
      "outputs": [
        {
          "output_type": "execute_result",
          "data": {
            "text/plain": [
              "624251.1666666666"
            ]
          },
          "metadata": {},
          "execution_count": 118
        }
      ]
    },
    {
      "cell_type": "code",
      "source": [
        "MSE"
      ],
      "metadata": {
        "id": "ywHb05dvrS-s",
        "outputId": "088f5a18-868c-4516-f1e5-b87d3cd4e924",
        "colab": {
          "base_uri": "https://localhost:8080/"
        }
      },
      "execution_count": null,
      "outputs": [
        {
          "output_type": "execute_result",
          "data": {
            "text/plain": [
              "882468729564.1666"
            ]
          },
          "metadata": {},
          "execution_count": 119
        }
      ]
    },
    {
      "cell_type": "code",
      "source": [
        "RMSE"
      ],
      "metadata": {
        "id": "ADoVPLe8rUK-",
        "outputId": "97b4ce89-8bd8-42bb-bdfe-f4f29595f029",
        "colab": {
          "base_uri": "https://localhost:8080/"
        }
      },
      "execution_count": null,
      "outputs": [
        {
          "output_type": "execute_result",
          "data": {
            "text/plain": [
              "939398.0676817292"
            ]
          },
          "metadata": {},
          "execution_count": 120
        }
      ]
    }
  ]
}